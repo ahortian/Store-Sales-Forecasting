{
 "cells": [
  {
   "cell_type": "code",
   "execution_count": 1,
   "metadata": {},
   "outputs": [],
   "source": [
    "import pandas as pd"
   ]
  },
  {
   "cell_type": "code",
   "execution_count": 6,
   "metadata": {
    "scrolled": true
   },
   "outputs": [
    {
     "name": "stdout",
     "output_type": "stream",
     "text": [
      "total 16664\r\n",
      "-rw-r--r--   1 apichart  staff     3108 Oct 22 14:14 concat_results.ipynb\r\n",
      "-rw-r--r--   1 apichart  staff   107859 Oct 19 09:00 model_parameters.csv\r\n",
      "-rw-r--r--   1 apichart  staff   742094 Oct 16 09:02 prediction_store_11_18_dept_1_100.csv\r\n",
      "-rw-r--r--   1 apichart  staff   745533 Oct 17 06:23 prediction_store_18_25_dept_1_100.csv\r\n",
      "-rwxr-xr-x@  1 apichart  staff    25191 Oct 22 09:10 \u001b[31mprediction_store_1_2_dept_1_21.csv\u001b[m\u001b[m\r\n",
      "-rwxr-xr-x@  1 apichart  staff    52255 Oct 22 09:10 \u001b[31mprediction_store_1_2_dept_21_76.csv\u001b[m\u001b[m\r\n",
      "-rwxr-xr-x@  1 apichart  staff    25491 Oct 22 09:10 \u001b[31mprediction_store_1_2_dept_77_100.csv\u001b[m\u001b[m\r\n",
      "-rw-r--r--   1 apichart  staff  2055232 Oct 19 09:00 prediction_store_25_46_dept_1_100.csv\r\n",
      "-rwxr-xr-x@  1 apichart  staff    25097 Oct 22 09:10 \u001b[31mprediction_store_2_3_dept_1_21.csv\u001b[m\u001b[m\r\n",
      "-rwxr-xr-x@  1 apichart  staff    36966 Oct 22 09:10 \u001b[31mprediction_store_2_3_dept_21_51.csv\u001b[m\u001b[m\r\n",
      "-rwxr-xr-x@  1 apichart  staff    41704 Oct 22 09:10 \u001b[31mprediction_store_2_3_dept_51_100.csv\u001b[m\u001b[m\r\n",
      "-rwxr-xr-x@  1 apichart  staff    58697 Oct 22 09:10 \u001b[31mprediction_store_3_4_dept_1_51.csv\u001b[m\u001b[m\r\n",
      "-rwxr-xr-x@  1 apichart  staff    37658 Oct 22 09:10 \u001b[31mprediction_store_3_4_dept_51_100.csv\u001b[m\u001b[m\r\n",
      "-rwxr-xr-x@  1 apichart  staff    62682 Oct 22 09:10 \u001b[31mprediction_store_4_5_dept_1_51.csv\u001b[m\u001b[m\r\n",
      "-rwxr-xr-x@  1 apichart  staff    41605 Oct 22 09:10 \u001b[31mprediction_store_4_5_dept_51_100.csv\u001b[m\u001b[m\r\n",
      "-rw-r--r--   1 apichart  staff    95943 Oct 14 21:15 prediction_store_5_6_dept_1_100.csv\r\n",
      "-rw-r--r--   1 apichart  staff   102941 Oct 14 23:35 prediction_store_6_7_dept_1_100.csv\r\n",
      "-rw-r--r--   1 apichart  staff   203361 Oct 15 05:03 prediction_store_7_9_dept_1_100.csv\r\n",
      "-rw-r--r--   1 apichart  staff   203297 Oct 15 09:41 prediction_store_9_11_dept_1_100.csv\r\n",
      "drwxr-xr-x@ 13 apichart  staff      442 Oct 22 12:23 \u001b[34mresults_store_1_5\u001b[m\u001b[m\r\n",
      "drwx------@  7 apichart  staff      238 Oct 14 17:22 \u001b[34mwalmart-recruiting-store-sales-forecasting\u001b[m\u001b[m\r\n",
      "-rw-rw-rw-@  1 apichart  staff  3797417 Oct 14 17:16 walmart-recruiting-store-sales-forecasting.zip\r\n",
      "-rw-rw-rw-@  1 apichart  staff     8526 Oct 17 10:04 walmart_kaggle.py\r\n"
     ]
    }
   ],
   "source": [
    "!ls -l"
   ]
  },
  {
   "cell_type": "markdown",
   "metadata": {},
   "source": [
    "## Load result files and concat"
   ]
  },
  {
   "cell_type": "code",
   "execution_count": 30,
   "metadata": {},
   "outputs": [],
   "source": [
    "results_names = [\n",
    "'prediction_store_1_2_dept_1_21.csv',\n",
    "'prediction_store_1_2_dept_21_76.csv',\n",
    "'prediction_store_1_2_dept_77_100.csv',\n",
    "'prediction_store_2_3_dept_1_21.csv',\n",
    "'prediction_store_2_3_dept_21_51.csv',\n",
    "'prediction_store_2_3_dept_51_100.csv',\n",
    "'prediction_store_3_4_dept_1_51.csv',\n",
    "'prediction_store_3_4_dept_51_100.csv',\n",
    "'prediction_store_4_5_dept_1_51.csv',\n",
    "'prediction_store_4_5_dept_51_100.csv',\n",
    "'prediction_store_5_6_dept_1_100.csv',\n",
    "'prediction_store_6_7_dept_1_100.csv',\n",
    "'prediction_store_7_9_dept_1_100.csv',\n",
    "'prediction_store_9_11_dept_1_100.csv',\n",
    "'prediction_store_11_18_dept_1_100.csv',\n",
    "'prediction_store_18_25_dept_1_100.csv',\n",
    "'prediction_store_25_46_dept_1_100.csv'\n",
    "]"
   ]
  },
  {
   "cell_type": "code",
   "execution_count": 31,
   "metadata": {},
   "outputs": [],
   "source": [
    "df_all = pd.DataFrame()\n",
    "for fname in results_names:\n",
    "    df = pd.read_csv(fname)\n",
    "    df_all = pd.concat([df_all,df])"
   ]
  },
  {
   "cell_type": "code",
   "execution_count": 53,
   "metadata": {},
   "outputs": [],
   "source": [
    "df_all = df_all.reset_index(drop=True)"
   ]
  },
  {
   "cell_type": "code",
   "execution_count": 54,
   "metadata": {
    "scrolled": true
   },
   "outputs": [
    {
     "data": {
      "text/plain": [
       "(129909, 4)"
      ]
     },
     "execution_count": 54,
     "metadata": {},
     "output_type": "execute_result"
    }
   ],
   "source": [
    "df_all.shape"
   ]
  },
  {
   "cell_type": "code",
   "execution_count": 56,
   "metadata": {
    "scrolled": true
   },
   "outputs": [
    {
     "data": {
      "text/html": [
       "<div>\n",
       "<style scoped>\n",
       "    .dataframe tbody tr th:only-of-type {\n",
       "        vertical-align: middle;\n",
       "    }\n",
       "\n",
       "    .dataframe tbody tr th {\n",
       "        vertical-align: top;\n",
       "    }\n",
       "\n",
       "    .dataframe thead th {\n",
       "        text-align: right;\n",
       "    }\n",
       "</style>\n",
       "<table border=\"1\" class=\"dataframe\">\n",
       "  <thead>\n",
       "    <tr style=\"text-align: right;\">\n",
       "      <th></th>\n",
       "      <th>Date</th>\n",
       "      <th>Prediction</th>\n",
       "      <th>Store</th>\n",
       "      <th>Dept</th>\n",
       "    </tr>\n",
       "  </thead>\n",
       "  <tbody>\n",
       "    <tr>\n",
       "      <td>129904</td>\n",
       "      <td>2013-06-28</td>\n",
       "      <td>1829.142279</td>\n",
       "      <td>45</td>\n",
       "      <td>98</td>\n",
       "    </tr>\n",
       "    <tr>\n",
       "      <td>129905</td>\n",
       "      <td>2013-07-05</td>\n",
       "      <td>1846.225115</td>\n",
       "      <td>45</td>\n",
       "      <td>98</td>\n",
       "    </tr>\n",
       "    <tr>\n",
       "      <td>129906</td>\n",
       "      <td>2013-07-12</td>\n",
       "      <td>1867.852846</td>\n",
       "      <td>45</td>\n",
       "      <td>98</td>\n",
       "    </tr>\n",
       "    <tr>\n",
       "      <td>129907</td>\n",
       "      <td>2013-07-19</td>\n",
       "      <td>1530.992450</td>\n",
       "      <td>45</td>\n",
       "      <td>98</td>\n",
       "    </tr>\n",
       "    <tr>\n",
       "      <td>129908</td>\n",
       "      <td>2013-07-26</td>\n",
       "      <td>1500.058850</td>\n",
       "      <td>45</td>\n",
       "      <td>98</td>\n",
       "    </tr>\n",
       "  </tbody>\n",
       "</table>\n",
       "</div>"
      ],
      "text/plain": [
       "              Date   Prediction  Store  Dept\n",
       "129904  2013-06-28  1829.142279     45    98\n",
       "129905  2013-07-05  1846.225115     45    98\n",
       "129906  2013-07-12  1867.852846     45    98\n",
       "129907  2013-07-19  1530.992450     45    98\n",
       "129908  2013-07-26  1500.058850     45    98"
      ]
     },
     "execution_count": 56,
     "metadata": {},
     "output_type": "execute_result"
    }
   ],
   "source": [
    "df_all.tail()"
   ]
  },
  {
   "cell_type": "markdown",
   "metadata": {},
   "source": [
    "## Load the test file"
   ]
  },
  {
   "cell_type": "code",
   "execution_count": 35,
   "metadata": {},
   "outputs": [],
   "source": [
    "df_test = pd.read_csv('walmart-recruiting-store-sales-forecasting/test.csv')"
   ]
  },
  {
   "cell_type": "code",
   "execution_count": 36,
   "metadata": {},
   "outputs": [
    {
     "data": {
      "text/plain": [
       "(115064, 4)"
      ]
     },
     "execution_count": 36,
     "metadata": {},
     "output_type": "execute_result"
    }
   ],
   "source": [
    "df_test.shape"
   ]
  },
  {
   "cell_type": "code",
   "execution_count": 63,
   "metadata": {
    "scrolled": true
   },
   "outputs": [
    {
     "data": {
      "text/html": [
       "<div>\n",
       "<style scoped>\n",
       "    .dataframe tbody tr th:only-of-type {\n",
       "        vertical-align: middle;\n",
       "    }\n",
       "\n",
       "    .dataframe tbody tr th {\n",
       "        vertical-align: top;\n",
       "    }\n",
       "\n",
       "    .dataframe thead th {\n",
       "        text-align: right;\n",
       "    }\n",
       "</style>\n",
       "<table border=\"1\" class=\"dataframe\">\n",
       "  <thead>\n",
       "    <tr style=\"text-align: right;\">\n",
       "      <th></th>\n",
       "      <th>Store</th>\n",
       "      <th>Dept</th>\n",
       "      <th>Date</th>\n",
       "      <th>IsHoliday</th>\n",
       "    </tr>\n",
       "  </thead>\n",
       "  <tbody>\n",
       "    <tr>\n",
       "      <td>115059</td>\n",
       "      <td>45</td>\n",
       "      <td>98</td>\n",
       "      <td>2013-06-28</td>\n",
       "      <td>False</td>\n",
       "    </tr>\n",
       "    <tr>\n",
       "      <td>115060</td>\n",
       "      <td>45</td>\n",
       "      <td>98</td>\n",
       "      <td>2013-07-05</td>\n",
       "      <td>False</td>\n",
       "    </tr>\n",
       "    <tr>\n",
       "      <td>115061</td>\n",
       "      <td>45</td>\n",
       "      <td>98</td>\n",
       "      <td>2013-07-12</td>\n",
       "      <td>False</td>\n",
       "    </tr>\n",
       "    <tr>\n",
       "      <td>115062</td>\n",
       "      <td>45</td>\n",
       "      <td>98</td>\n",
       "      <td>2013-07-19</td>\n",
       "      <td>False</td>\n",
       "    </tr>\n",
       "    <tr>\n",
       "      <td>115063</td>\n",
       "      <td>45</td>\n",
       "      <td>98</td>\n",
       "      <td>2013-07-26</td>\n",
       "      <td>False</td>\n",
       "    </tr>\n",
       "  </tbody>\n",
       "</table>\n",
       "</div>"
      ],
      "text/plain": [
       "        Store  Dept        Date  IsHoliday\n",
       "115059     45    98  2013-06-28      False\n",
       "115060     45    98  2013-07-05      False\n",
       "115061     45    98  2013-07-12      False\n",
       "115062     45    98  2013-07-19      False\n",
       "115063     45    98  2013-07-26      False"
      ]
     },
     "execution_count": 63,
     "metadata": {},
     "output_type": "execute_result"
    }
   ],
   "source": [
    "df_test.tail()"
   ]
  },
  {
   "cell_type": "markdown",
   "metadata": {},
   "source": [
    "## Merge results with the test data frame\n",
    "    - make sure we report only the results required in the test file "
   ]
  },
  {
   "cell_type": "code",
   "execution_count": 57,
   "metadata": {},
   "outputs": [],
   "source": [
    "df_all_test = pd.merge(df_test, df_all, on=['Store','Dept','Date'], how='left')"
   ]
  },
  {
   "cell_type": "code",
   "execution_count": 60,
   "metadata": {
    "scrolled": true
   },
   "outputs": [
    {
     "data": {
      "text/html": [
       "<div>\n",
       "<style scoped>\n",
       "    .dataframe tbody tr th:only-of-type {\n",
       "        vertical-align: middle;\n",
       "    }\n",
       "\n",
       "    .dataframe tbody tr th {\n",
       "        vertical-align: top;\n",
       "    }\n",
       "\n",
       "    .dataframe thead th {\n",
       "        text-align: right;\n",
       "    }\n",
       "</style>\n",
       "<table border=\"1\" class=\"dataframe\">\n",
       "  <thead>\n",
       "    <tr style=\"text-align: right;\">\n",
       "      <th></th>\n",
       "      <th>Store</th>\n",
       "      <th>Dept</th>\n",
       "      <th>Date</th>\n",
       "      <th>IsHoliday</th>\n",
       "      <th>Prediction</th>\n",
       "    </tr>\n",
       "  </thead>\n",
       "  <tbody>\n",
       "    <tr>\n",
       "      <td>115059</td>\n",
       "      <td>45</td>\n",
       "      <td>98</td>\n",
       "      <td>2013-06-28</td>\n",
       "      <td>False</td>\n",
       "      <td>1829.142279</td>\n",
       "    </tr>\n",
       "    <tr>\n",
       "      <td>115060</td>\n",
       "      <td>45</td>\n",
       "      <td>98</td>\n",
       "      <td>2013-07-05</td>\n",
       "      <td>False</td>\n",
       "      <td>1846.225115</td>\n",
       "    </tr>\n",
       "    <tr>\n",
       "      <td>115061</td>\n",
       "      <td>45</td>\n",
       "      <td>98</td>\n",
       "      <td>2013-07-12</td>\n",
       "      <td>False</td>\n",
       "      <td>1867.852846</td>\n",
       "    </tr>\n",
       "    <tr>\n",
       "      <td>115062</td>\n",
       "      <td>45</td>\n",
       "      <td>98</td>\n",
       "      <td>2013-07-19</td>\n",
       "      <td>False</td>\n",
       "      <td>1530.992450</td>\n",
       "    </tr>\n",
       "    <tr>\n",
       "      <td>115063</td>\n",
       "      <td>45</td>\n",
       "      <td>98</td>\n",
       "      <td>2013-07-26</td>\n",
       "      <td>False</td>\n",
       "      <td>1500.058850</td>\n",
       "    </tr>\n",
       "  </tbody>\n",
       "</table>\n",
       "</div>"
      ],
      "text/plain": [
       "        Store  Dept        Date  IsHoliday   Prediction\n",
       "115059     45    98  2013-06-28      False  1829.142279\n",
       "115060     45    98  2013-07-05      False  1846.225115\n",
       "115061     45    98  2013-07-12      False  1867.852846\n",
       "115062     45    98  2013-07-19      False  1530.992450\n",
       "115063     45    98  2013-07-26      False  1500.058850"
      ]
     },
     "execution_count": 60,
     "metadata": {},
     "output_type": "execute_result"
    }
   ],
   "source": [
    "df_all_test.tail()"
   ]
  },
  {
   "cell_type": "markdown",
   "metadata": {},
   "source": [
    "- checking if there is any null (i.e. no prediction from the results files)\n",
    "- fill with 0"
   ]
  },
  {
   "cell_type": "code",
   "execution_count": 69,
   "metadata": {
    "scrolled": true
   },
   "outputs": [
    {
     "name": "stdout",
     "output_type": "stream",
     "text": [
      "<class 'pandas.core.frame.DataFrame'>\n",
      "Int64Index: 115064 entries, 0 to 115063\n",
      "Data columns (total 5 columns):\n",
      "Store         115064 non-null int64\n",
      "Dept          115064 non-null int64\n",
      "Date          115064 non-null object\n",
      "IsHoliday     115064 non-null bool\n",
      "Prediction    115064 non-null float64\n",
      "dtypes: bool(1), float64(1), int64(2), object(1)\n",
      "memory usage: 4.5+ MB\n"
     ]
    }
   ],
   "source": [
    "df_all_test.info()"
   ]
  },
  {
   "cell_type": "code",
   "execution_count": 67,
   "metadata": {},
   "outputs": [],
   "source": [
    "df_all_test['Prediction'] = df_all_test['Prediction'].fillna(0)"
   ]
  },
  {
   "cell_type": "code",
   "execution_count": 85,
   "metadata": {},
   "outputs": [],
   "source": [
    "#df_all_test[df_all_test['Prediction'].isnull()]\n",
    "#df_all_test[df_all_test['Prediction'] < 0]"
   ]
  },
  {
   "cell_type": "markdown",
   "metadata": {},
   "source": [
    "- for the case that prediction < 0, fill 0"
   ]
  },
  {
   "cell_type": "code",
   "execution_count": 76,
   "metadata": {},
   "outputs": [],
   "source": [
    "df_all_test['Prediction'] = df_all_test['Prediction'].apply(lambda x: 0 if x<0 else x)"
   ]
  },
  {
   "cell_type": "markdown",
   "metadata": {},
   "source": [
    "## Write the output file"
   ]
  },
  {
   "cell_type": "code",
   "execution_count": 83,
   "metadata": {},
   "outputs": [
    {
     "data": {
      "text/plain": [
       "0"
      ]
     },
     "execution_count": 83,
     "metadata": {},
     "output_type": "execute_result"
    }
   ],
   "source": [
    "sum(df_all_test['Prediction'] < 0)"
   ]
  },
  {
   "cell_type": "code",
   "execution_count": 88,
   "metadata": {},
   "outputs": [],
   "source": [
    "f_out = open('sub_predictions.csv', 'w')\n",
    "f_out.write('Id,Weekly_Sales\\n')\n",
    "\n",
    "#for i in range(20):\n",
    "for i in range(len(df_all_test)):\n",
    "    out = '{}_{}_{},{}'.format(df_all_test['Store'].iloc[i], \n",
    "                                df_all_test['Dept'].iloc[i], \n",
    "                                df_all_test['Date'].iloc[i], \n",
    "                                round(df_all_test['Prediction'].iloc[i], 2)\n",
    "                               )\n",
    "    f_out.write(out + '\\n')\n",
    "f_out.close()"
   ]
  },
  {
   "cell_type": "code",
   "execution_count": null,
   "metadata": {},
   "outputs": [],
   "source": []
  },
  {
   "cell_type": "code",
   "execution_count": null,
   "metadata": {},
   "outputs": [],
   "source": []
  },
  {
   "cell_type": "code",
   "execution_count": null,
   "metadata": {},
   "outputs": [],
   "source": []
  },
  {
   "cell_type": "code",
   "execution_count": null,
   "metadata": {},
   "outputs": [],
   "source": []
  },
  {
   "cell_type": "code",
   "execution_count": null,
   "metadata": {},
   "outputs": [],
   "source": []
  }
 ],
 "metadata": {
  "kernelspec": {
   "display_name": "Python 3",
   "language": "python",
   "name": "python3"
  },
  "language_info": {
   "codemirror_mode": {
    "name": "ipython",
    "version": 3
   },
   "file_extension": ".py",
   "mimetype": "text/x-python",
   "name": "python",
   "nbconvert_exporter": "python",
   "pygments_lexer": "ipython3",
   "version": "3.7.4"
  }
 },
 "nbformat": 4,
 "nbformat_minor": 2
}
